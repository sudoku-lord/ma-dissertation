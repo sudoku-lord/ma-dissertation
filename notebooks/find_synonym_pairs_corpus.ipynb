{
 "cells": [
  {
   "cell_type": "code",
   "execution_count": 36,
   "id": "7c9dee65-4f8a-40c5-a690-d8208131ba8f",
   "metadata": {},
   "outputs": [
    {
     "name": "stderr",
     "output_type": "stream",
     "text": [
      "[nltk_data] Downloading package stopwords to /home/jovyan/nltk_data...\n",
      "[nltk_data]   Package stopwords is already up-to-date!\n",
      "[nltk_data] Downloading package wordnet to /home/jovyan/nltk_data...\n",
      "[nltk_data]   Package wordnet is already up-to-date!\n"
     ]
    },
    {
     "name": "stdout",
     "output_type": "stream",
     "text": [
      "\u001b[38;5;3m⚠ As of spaCy v3.0, shortcuts like 'en' are deprecated. Please use the\n",
      "full pipeline package name 'en_core_web_sm' instead.\u001b[0m\n",
      "Collecting en-core-web-sm==3.6.0\n",
      "  Downloading https://github.com/explosion/spacy-models/releases/download/en_core_web_sm-3.6.0/en_core_web_sm-3.6.0-py3-none-any.whl (12.8 MB)\n",
      "\u001b[2K     \u001b[90m━━━━━━━━━━━━━━━━━━━━━━━━━━━━━━━━━━━━━━━━\u001b[0m \u001b[32m12.8/12.8 MB\u001b[0m \u001b[31m39.4 MB/s\u001b[0m eta \u001b[36m0:00:00\u001b[0m00:01\u001b[0m00:01\u001b[0m\n",
      "\u001b[?25hRequirement already satisfied: spacy<3.7.0,>=3.6.0 in /opt/conda/lib/python3.11/site-packages (from en-core-web-sm==3.6.0) (3.6.0)\n",
      "Requirement already satisfied: spacy-legacy<3.1.0,>=3.0.11 in /opt/conda/lib/python3.11/site-packages (from spacy<3.7.0,>=3.6.0->en-core-web-sm==3.6.0) (3.0.12)\n",
      "Requirement already satisfied: spacy-loggers<2.0.0,>=1.0.0 in /opt/conda/lib/python3.11/site-packages (from spacy<3.7.0,>=3.6.0->en-core-web-sm==3.6.0) (1.0.4)\n",
      "Requirement already satisfied: murmurhash<1.1.0,>=0.28.0 in /opt/conda/lib/python3.11/site-packages (from spacy<3.7.0,>=3.6.0->en-core-web-sm==3.6.0) (1.0.9)\n",
      "Requirement already satisfied: cymem<2.1.0,>=2.0.2 in /opt/conda/lib/python3.11/site-packages (from spacy<3.7.0,>=3.6.0->en-core-web-sm==3.6.0) (2.0.7)\n",
      "Requirement already satisfied: preshed<3.1.0,>=3.0.2 in /opt/conda/lib/python3.11/site-packages (from spacy<3.7.0,>=3.6.0->en-core-web-sm==3.6.0) (3.0.8)\n",
      "Requirement already satisfied: thinc<8.2.0,>=8.1.8 in /opt/conda/lib/python3.11/site-packages (from spacy<3.7.0,>=3.6.0->en-core-web-sm==3.6.0) (8.1.10)\n",
      "Requirement already satisfied: wasabi<1.2.0,>=0.9.1 in /opt/conda/lib/python3.11/site-packages (from spacy<3.7.0,>=3.6.0->en-core-web-sm==3.6.0) (1.1.2)\n",
      "Requirement already satisfied: srsly<3.0.0,>=2.4.3 in /opt/conda/lib/python3.11/site-packages (from spacy<3.7.0,>=3.6.0->en-core-web-sm==3.6.0) (2.4.7)\n",
      "Requirement already satisfied: catalogue<2.1.0,>=2.0.6 in /opt/conda/lib/python3.11/site-packages (from spacy<3.7.0,>=3.6.0->en-core-web-sm==3.6.0) (2.0.9)\n",
      "Requirement already satisfied: typer<0.10.0,>=0.3.0 in /opt/conda/lib/python3.11/site-packages (from spacy<3.7.0,>=3.6.0->en-core-web-sm==3.6.0) (0.9.0)\n",
      "Requirement already satisfied: pathy>=0.10.0 in /opt/conda/lib/python3.11/site-packages (from spacy<3.7.0,>=3.6.0->en-core-web-sm==3.6.0) (0.10.2)\n",
      "Requirement already satisfied: smart-open<7.0.0,>=5.2.1 in /opt/conda/lib/python3.11/site-packages (from spacy<3.7.0,>=3.6.0->en-core-web-sm==3.6.0) (6.3.0)\n",
      "Requirement already satisfied: tqdm<5.0.0,>=4.38.0 in /opt/conda/lib/python3.11/site-packages (from spacy<3.7.0,>=3.6.0->en-core-web-sm==3.6.0) (4.65.0)\n",
      "Requirement already satisfied: numpy>=1.15.0 in /opt/conda/lib/python3.11/site-packages (from spacy<3.7.0,>=3.6.0->en-core-web-sm==3.6.0) (1.24.3)\n",
      "Requirement already satisfied: requests<3.0.0,>=2.13.0 in /opt/conda/lib/python3.11/site-packages (from spacy<3.7.0,>=3.6.0->en-core-web-sm==3.6.0) (2.31.0)\n",
      "Requirement already satisfied: pydantic!=1.8,!=1.8.1,<1.11.0,>=1.7.4 in /opt/conda/lib/python3.11/site-packages (from spacy<3.7.0,>=3.6.0->en-core-web-sm==3.6.0) (1.10.12)\n",
      "Requirement already satisfied: jinja2 in /opt/conda/lib/python3.11/site-packages (from spacy<3.7.0,>=3.6.0->en-core-web-sm==3.6.0) (3.1.2)\n",
      "Requirement already satisfied: setuptools in /opt/conda/lib/python3.11/site-packages (from spacy<3.7.0,>=3.6.0->en-core-web-sm==3.6.0) (68.0.0)\n",
      "Requirement already satisfied: packaging>=20.0 in /opt/conda/lib/python3.11/site-packages (from spacy<3.7.0,>=3.6.0->en-core-web-sm==3.6.0) (23.1)\n",
      "Requirement already satisfied: langcodes<4.0.0,>=3.2.0 in /opt/conda/lib/python3.11/site-packages (from spacy<3.7.0,>=3.6.0->en-core-web-sm==3.6.0) (3.3.0)\n",
      "Requirement already satisfied: typing-extensions>=4.2.0 in /opt/conda/lib/python3.11/site-packages (from pydantic!=1.8,!=1.8.1,<1.11.0,>=1.7.4->spacy<3.7.0,>=3.6.0->en-core-web-sm==3.6.0) (4.6.3)\n",
      "Requirement already satisfied: charset-normalizer<4,>=2 in /opt/conda/lib/python3.11/site-packages (from requests<3.0.0,>=2.13.0->spacy<3.7.0,>=3.6.0->en-core-web-sm==3.6.0) (3.1.0)\n",
      "Requirement already satisfied: idna<4,>=2.5 in /opt/conda/lib/python3.11/site-packages (from requests<3.0.0,>=2.13.0->spacy<3.7.0,>=3.6.0->en-core-web-sm==3.6.0) (3.4)\n",
      "Requirement already satisfied: urllib3<3,>=1.21.1 in /opt/conda/lib/python3.11/site-packages (from requests<3.0.0,>=2.13.0->spacy<3.7.0,>=3.6.0->en-core-web-sm==3.6.0) (2.0.3)\n",
      "Requirement already satisfied: certifi>=2017.4.17 in /opt/conda/lib/python3.11/site-packages (from requests<3.0.0,>=2.13.0->spacy<3.7.0,>=3.6.0->en-core-web-sm==3.6.0) (2023.5.7)\n",
      "Requirement already satisfied: blis<0.8.0,>=0.7.8 in /opt/conda/lib/python3.11/site-packages (from thinc<8.2.0,>=8.1.8->spacy<3.7.0,>=3.6.0->en-core-web-sm==3.6.0) (0.7.10)\n",
      "Requirement already satisfied: confection<1.0.0,>=0.0.1 in /opt/conda/lib/python3.11/site-packages (from thinc<8.2.0,>=8.1.8->spacy<3.7.0,>=3.6.0->en-core-web-sm==3.6.0) (0.1.0)\n",
      "Requirement already satisfied: click<9.0.0,>=7.1.1 in /opt/conda/lib/python3.11/site-packages (from typer<0.10.0,>=0.3.0->spacy<3.7.0,>=3.6.0->en-core-web-sm==3.6.0) (8.1.3)\n",
      "Requirement already satisfied: MarkupSafe>=2.0 in /opt/conda/lib/python3.11/site-packages (from jinja2->spacy<3.7.0,>=3.6.0->en-core-web-sm==3.6.0) (2.1.3)\n",
      "\u001b[38;5;2m✔ Download and installation successful\u001b[0m\n",
      "You can now load the package via spacy.load('en_core_web_sm')\n"
     ]
    }
   ],
   "source": [
    "import pandas as pd\n",
    "pd.options.mode.chained_assignment = None\n",
    "import numpy as np\n",
    "\n",
    "import nltk\n",
    "from nltk.corpus import stopwords\n",
    "nltk.download('stopwords')\n",
    "stop_words = set(stopwords.words('english'))\n",
    "\n",
    "from nltk.tokenize import word_tokenize\n",
    "\n",
    "nltk.download('wordnet')\n",
    "from nltk.corpus import wordnet as wn\n",
    "\n",
    "from nltk.probability import FreqDist\n",
    "\n",
    "import spacy\n",
    "!python -m spacy download en\n",
    "sp = spacy.load(\"en_core_web_sm\")\n",
    "\n",
    "from IPython.display import display, HTML"
   ]
  },
  {
   "cell_type": "code",
   "execution_count": 37,
   "id": "2f5788c1-b141-44e9-bf9d-4f59c213b2d8",
   "metadata": {},
   "outputs": [
    {
     "name": "stderr",
     "output_type": "stream",
     "text": [
      "/tmp/ipykernel_584802/2352958704.py:2: DtypeWarning: Columns (3,4,5,6,7,8,9,10,11,12,13,14,15,16,17,18,19,20,21,22,23,24,25,26,27,28,29,30,31,32,33,34,35,36,37,38,39,40,41,42,43,44,45,46,47,48,49,50,51,52,53,54,55,56,57,58,59,60,61,62,63,64,65,66,67,68,69,70,71,72,73,74,75,76,77,78,79,80,81,82,83,84,85,86,87,88,89,90,91,92,93,94,95,96,97,98,99,100,101,102,103,104,105,106,107,108,109,110,111,112,113,114,115,116,117,118,119,120,121,122,123,124,125,126,127,128,129,130,131,132,133,134,135,136,137,138,139,140,141,142,143,144,145,146,147,148,149,150,151,152,153,154,155,156,157,158,159,160,161,162,163,164,165,166,167,168,169,170,171,172,173,174,175,176,177,178,179,180,181,182,183,184,185,186,187,188,189,190,191,192,193,194,195,196,197,198,199,200,201,202,203,204,205,206,207,208,209,210,211,212,213,214,215,216,217,218,219,220,221,222,223,224,225,226,227,228,229,230,231,232,233,234,235,236,237,238,239,240,241,242,243,244,245,246,247,248,249,250,251,252,253,254,255,256,257,258,259,260,261,262,263,264,265,266,267,268,269,270,271,272,273,274,275,276,277,278,279,280,281,282,283,284,285,286,287,288,289,290,291,292,293,294,295,296,297,298,299,300,301,302,303,304,305,306,307,308,309,310,311,312,313,314,315,316,317,318,319,320,321,322,323,324,325,326,327,328,329,330,331,332,333,334,335,336,337,338,339,340,341,342,343,344,345,346,347,348,349,350,351,352,353,354,355,356,357,358,359,360,361,362,363,364,365,366,367,368,369,370,371,372,373,374,375,376,377,378,379,380,381,382,383,384,385,386,387,388,389,390,391,392,393,394,395,396,397,398,399,400,401,402,403,404,405,406,407,408,409,410,411,412,413,414,415,416,417,418,419,420,421,422,423,424,425,426,427,428,429,430,431,432,433,434,435,436,437,438,439,440,441,442,443,444,445,446,447,448,449,450,451,452,453,454,455,456,457,458,459,460,461,462,463,464,465,466,467,468,469,470,471,472,473,474,475,476,477,478,479,480,481,482,483,484,485,486,487,488,489,490,491,492,493,494,495,496,497,498,499,500,501,502,503,504,505,506,507,508,509,510,511,512,513,514,515,516,517,518,519,520,521,522,523,524,525,526,527,528,529,530,531,532,533,534,535,536,537,538,539,540,541,542,543,544,545,546,547,548,549,550,551,552,553,554,555,556,557,558,559,560,561,562,563,564,565,566,567,568,569,570,571,572,573,574,575,576,577,578,579,580,581,582,583,584,585,586,587,588,589,590,591,592,593,594,595,596,597,598,599,600,601,602,603,604,605,606,607,608,609,610,611,612,613,614,615,616,617,618,619,620,621,622,623,624,625,626,627,628,629,630,631,632,633,634,635,636,637,638,639,640,641,642,643,644,645,646,647,648,649,650,651,652,653,654,655,656,657,658,659,660,661,662,663,664,665,666,667,668,669,670,671,672,673,674,675,676,677,678,679,680,681,682,683,684,685,686,687,688,689,690,691,692,693,694,695,696,697,698,699,700,701,702,703,704,705,706,707,708,709,710,711,712,713,714,715,716,717,718,719,720,721,722,723,724,725,726,727,728,729,730,731,732,733,734,735,736,737,738,739,740,741,742,743,744,745,746,747,748,749,750,751,752,753,754,755,756,757,758,759,760,761,762,763,764,765,766,767,768,769,770,771,772,773,774,775,776,777,778,779,780,781,782,783,784,785,786,787,788,789,790,791,792,793,794,795,796,797,798,799,800,801,802,804) have mixed types. Specify dtype option on import or set low_memory=False.\n",
      "  text_df = pd.read_csv(\"18_093_attachment_text_Aug21.csv\", encoding=\"ISO-8859-1\")[[\"Date\", \"Attachment_text\", \"cn_doc_id\", \"Summary\", \"BRCID\"]]\n"
     ]
    }
   ],
   "source": [
    "output_df = pd.read_excel(\"output.xls\")\n",
    "text_df = pd.read_csv(\"18_093_attachment_text_Aug21.csv\", encoding=\"ISO-8859-1\")[[\"Date\", \"Attachment_text\", \"cn_doc_id\", \"Summary\", \"BRCID\"]]"
   ]
  },
  {
   "cell_type": "code",
   "execution_count": 38,
   "id": "5891e0e8-611e-45b2-9f9b-c384171c459c",
   "metadata": {},
   "outputs": [
    {
     "name": "stdout",
     "output_type": "stream",
     "text": [
      "MERGED COMPLETE DATA\n",
      "GET TOKENS FROM COMPLETE DATA\n",
      "GET NON-STOPWORD TOKENS FROM COMPLETE DATA\n"
     ]
    }
   ],
   "source": [
    "complete_data = pd.merge(output_df, text_df, left_on='CN_Doc_ID', right_on='cn_doc_id', how='right')\n",
    "complete_data.sort_values(\"ethnicitycleaned\", axis=0, inplace=True)\n",
    "complete_data.rename(columns={\"ethnicitycleaned\": \"Ethnicity\", \"Attachment_text\": \"Patient_Summary\", \"age\": \"Age\", \"Gender_ID\": \"Gender\", \"diagnosis_date\": \"Diagnosis_Date\", \"document_date\": \"Document_Date\", \"CN_Doc_ID\": \"unique_id\"}, inplace=True)\n",
    "complete_data = complete_data.dropna(subset=[\"Ethnicity\", \"Patient_Summary\"])\n",
    "print(\"MERGED COMPLETE DATA\")\n",
    "\n",
    "complete_data['Patient_Summary'] = [sp(complete_data['Patient_Summary'].iloc[i]) for i in range(complete_data.shape[0])]\n",
    "complete_data['tokens'] = [[word.text for word in complete_data['Patient_Summary'].iloc[i]] for i in range(complete_data.shape[0])]\n",
    "print(\"GET TOKENS FROM COMPLETE DATA\")\n",
    "\n",
    "complete_data['no_stop'] = ''\n",
    "for i in range(complete_data.shape[0]):\n",
    "    complete_data['no_stop'].iloc[i] = [t for t in complete_data['tokens'].iloc[i] if t.lower() not in stop_words and t.isalnum() and not t.isnumeric() and t.lower() not in [\"i\", \"is\", \"be\", \"am\", \"are\", \"the\", \"SLaM\", \"\" \"i'm\", \"i’m\", \"zzzzz\"]]\n",
    "print(\"GET NON-STOPWORD TOKENS FROM COMPLETE DATA\")"
   ]
  },
  {
   "cell_type": "code",
   "execution_count": 39,
   "id": "f1f87c18-a7c0-4ff7-96f2-7f94ef8275a8",
   "metadata": {},
   "outputs": [
    {
     "name": "stdout",
     "output_type": "stream",
     "text": [
      "9536292\n"
     ]
    }
   ],
   "source": [
    "for i in range(complete_data.shape[0]):\n",
    "    full_corpus += ' '.join(word for word in complete_data['no_stop'].iloc[i])\n",
    "\n",
    "print(len(full_corpus))"
   ]
  },
  {
   "cell_type": "code",
   "execution_count": null,
   "id": "694403ee-054e-4f1b-8c99-e552f6fdb853",
   "metadata": {},
   "outputs": [],
   "source": [
    "print(full_corpus[:10000])"
   ]
  },
  {
   "cell_type": "code",
   "execution_count": 40,
   "id": "607b962e-5772-4cad-a6f3-26036be4cd75",
   "metadata": {},
   "outputs": [
    {
     "name": "stdout",
     "output_type": "stream",
     "text": [
      "[('team', 9501), ('dr', 8956), ('please', 8481), ('health', 8405), ('mental', 7902), ('assessment', 7608), ('service', 7343), ('appointment', 7090), ('would', 6449), ('contact', 6154), ('qqqqq', 5922), ('time', 5747), ('also', 5704), ('gp', 5700), ('care', 5520), ('road', 5360), ('mood', 5172), ('support', 5010), ('hospital', 4964), ('date', 4712), ('referral', 4389), ('medication', 4182), ('family', 4161), ('dear', 4081), ('number', 4041), ('ms', 3986), ('history', 3903), ('risk', 3801), ('sincerely', 3641), ('low', 3474), ('current', 3462), ('self', 3456), ('plan', 3411), ('mg', 3381), ('psychological', 3379), ('information', 3357), ('mr', 3345), ('reported', 3339), ('may', 3319), ('thoughts', 3315), ('treatment', 3283), ('telephone', 3277), ('centre', 3272), ('services', 3246), ('said', 3243), ('mother', 3156), ('home', 3078), ('social', 3072), ('perinatal', 3069), ('children', 3024), ('clinical', 3016), ('us', 2968), ('help', 2948), ('group', 2938), ('anxiety', 2931), ('tel', 2931), ('liaison', 2874), ('southwark', 2868), ('name', 2838), ('therapy', 2832), ('fax', 2824), ('details', 2814), ('consultant', 2811), ('currently', 2799), ('well', 2778), ('address', 2763), ('confidential', 2701), ('could', 2680), ('depression', 2667), ('yes', 2646), ('able', 2629), ('due', 2600), ('past', 2562), ('nhs', 2559), ('however', 2523), ('private', 2506), ('like', 2473), ('patient', 2446), ('lewisham', 2425), ('feels', 2424), ('see', 2418), ('child', 2346), ('years', 2304), ('referred', 2289), ('house', 2283), ('attend', 2235), ('community', 2214), ('following', 2214), ('work', 2212), ('cc', 2206), ('psychiatrist', 2205), ('day', 2154), ('one', 2145), ('last', 2128), ('feel', 2124), ('floor', 2120), ('feeling', 2118), ('crisis', 2070), ('medical', 2049), ('symptoms', 2043), ('harm', 2037), ('reports', 2022), ('need', 2019), ('year', 1983), ('lambeth', 1953), ('state', 1950), ('good', 1942), ('clinic', 1920), ('suicidal', 1896), ('sleep', 1887), ('dob', 1863), ('review', 1863), ('se5', 1851), ('difficulties', 1850), ('l', 1848), ('letter', 1837), ('concerns', 1836), ('problems', 1836), ('back', 1834), ('since', 1815), ('medicine', 1809), ('others', 1806), ('baby', 1800), ('email', 1783), ('hours', 1779), ('felt', 1773), ('first', 1770), ('relationship', 1752), ('discharge', 1726), ('academic', 1704), ('seen', 1692), ('south', 1686), ('needs', 1684), ('department', 1680), ('discussed', 1680), ('physical', 1662), ('map', 1654), ('use', 1647), ('old', 1635), ('alcohol', 1590), ('life', 1566), ('weeks', 1548), ('high', 1539), ('made', 1536), ('maudsley', 1533), ('two', 1527), ('father', 1527), ('hill', 1512), ('diagnosis', 1506), ('offer', 1494), ('integrated', 1467), ('psychiatric', 1467), ('know', 1449), ('stated', 1449), ('croydon', 1446), ('agreed', 1446), ('miss', 1443), ('present', 1440), ('described', 1437), ('previous', 1428), ('months', 1428), ('partner', 1428), ('get', 1416), ('memory', 1410), ('line', 1398), ('advice', 1374), ('slam', 1366), ('practice', 1351), ('take', 1350), ('week', 1350), ('surgery', 1347), ('times', 1341), ('today', 1330), ('form', 1318), ('going', 1317), ('continue', 1317), ('august', 1302), ('taking', 1296), ('street', 1295), ('north', 1290), ('unable', 1288), ('difficult', 1281), ('resource', 1275), ('people', 1263), ('around', 1263), ('april', 1259), ('call', 1258), ('things', 1257), ('aware', 1251), ('meeting', 1250), ('college', 1242), ('way', 1227), ('given', 1221), ('future', 1221), ('go', 1206), ('cag', 1200), ('march', 1190), ('possible', 1183), ('birth', 1179), ('personality', 1176)]\n"
     ]
    }
   ],
   "source": [
    "toks = word_tokenize(full_corpus)\n",
    "fdist = FreqDist(word.lower() for word in toks)\n",
    "top_thirty = fdist.most_common(200)\n",
    "print(top_thirty)"
   ]
  },
  {
   "cell_type": "code",
   "execution_count": 46,
   "id": "1562d0ca-68eb-47ae-8fe3-7e3c40d9d462",
   "metadata": {},
   "outputs": [
    {
     "name": "stdout",
     "output_type": "stream",
     "text": [
      "removing cognizant\n",
      "removing Dr.\n",
      "removing Doctor_of_the_Church\n",
      "removing Dr.\n",
      "removing doctor_up\n",
      "removing mend\n",
      "removing bushel\n",
      "removing furbish_up\n",
      "removing touch_on\n",
      "removing child_care\n",
      "removing alcoholic_drink\n",
      "removing intoxicant\n",
      "removing peril\n",
      "removing endangerment\n",
      "removing peril\n",
      "removing risk_of_infection\n",
      "removing risk_of_exposure\n",
      "removing put_on_the_line\n",
      "removing gamble\n",
      "removing take_chances\n",
      "removing run_a_risk\n",
      "removing community_of_interests\n",
      "removing residential_area\n",
      "removing biotic_community\n",
      "removing squad\n",
      "removing team_up\n",
      "removing wellness\n",
      "removing judgment\n",
      "removing designation\n",
      "removing appointee\n",
      "removing medicament\n",
      "removing menage\n",
      "removing family_unit\n",
      "removing family_line\n",
      "removing kinfolk\n",
      "removing sept\n",
      "removing kinsperson\n",
      "removing syndicate\n",
      "removing mob\n",
      "removing fellowship\n",
      "removing unfeignedly\n",
      "removing sincerely_yours\n",
      "removing chronicle\n",
      "removing humor\n",
      "removing climate\n",
      "removing infirmary\n",
      "removing selective_information\n",
      "removing thought_process\n",
      "removing intellection\n",
      "removing sentiment\n",
      "removing discourse\n",
      "removing societal\n",
      "removing queasy\n",
      "removing unquiet\n",
      "removing religious_service\n",
      "removing military_service\n",
      "removing Robert_William_Service\n",
      "removing table_service\n",
      "removing service_of_process\n",
      "removing inspection_and_repair\n",
      "removing telephone_set\n",
      "removing telephony\n",
      "removing call_up\n",
      "removing notion\n",
      "removing flavor\n",
      "removing touch_sensation\n",
      "removing tactile_sensation\n",
      "removing intuitive_feeling\n",
      "removing palpate\n",
      "removing wellspring\n",
      "removing intimately\n",
      "removing advantageously\n",
      "removing comfortably\n",
      "removing diagnosing\n",
      "removing male_parent\n",
      "removing forefather\n",
      "removing sire\n",
      "removing Padre\n",
      "removing Father_of_the_Church\n",
      "removing Father-God\n",
      "removing founder\n",
      "removing founding_father\n",
      "removing don\n",
      "removing beget\n",
      "removing engender\n",
      "removing sire\n",
      "removing bring_forth\n",
      "KEY: aware\tSYNONYMS: ['aware', 'cognisant', 'mindful', 'aware']\n",
      "\n",
      "KEY: clinician\tSYNONYMS: ['clinician']\n",
      "\n",
      "KEY: doctor\tSYNONYMS: ['doctor', 'doc', 'physician', 'MD', 'medico', 'Doctor', 'doctor', 'doctor', 'sophisticate', 'doctor', 'doctor', 'repair', 'fix', 'doctor', 'restore']\n",
      "\n",
      "KEY: childcare\tSYNONYMS: ['childcare']\n",
      "\n",
      "KEY: alcohol\tSYNONYMS: ['alcohol', 'alcoholic_beverage', 'inebriant', 'alcohol']\n",
      "\n",
      "KEY: risk\tSYNONYMS: ['hazard', 'jeopardy', 'risk', 'risk', 'danger', 'risk', 'risk', 'risk', 'lay_on_the_line', 'chance', 'risk', 'hazard', 'adventure', 'take_a_chance']\n",
      "\n",
      "KEY: personality\tSYNONYMS: ['personality', 'personality']\n",
      "\n",
      "KEY: community\tSYNONYMS: ['community', 'community', 'community', 'community', 'residential_district', 'community', 'community']\n",
      "\n",
      "KEY: difficult\tSYNONYMS: ['difficult', 'hard', 'unmanageable', 'difficult']\n",
      "\n",
      "KEY: team\tSYNONYMS: ['team', 'team', 'team']\n",
      "\n",
      "KEY: health\tSYNONYMS: ['health', 'health']\n",
      "\n",
      "KEY: assessment\tSYNONYMS: ['appraisal', 'assessment', 'assessment', 'assessment', 'judgement', 'assessment']\n",
      "\n",
      "KEY: appointment\tSYNONYMS: ['appointment', 'assignment', 'naming', 'date', 'appointment', 'engagement', 'appointment', 'fitting', 'appointment', 'appointment', 'appointment']\n",
      "\n",
      "KEY: medication\tSYNONYMS: ['medicine', 'medication', 'medicinal_drug', 'medication']\n",
      "\n",
      "KEY: road\tSYNONYMS: ['road', 'route', 'road']\n",
      "\n",
      "KEY: family\tSYNONYMS: ['family', 'household', 'house', 'home', 'family', 'class', 'category', 'family', 'family', 'folk', 'kinsfolk', 'phratry', 'kin', 'family', 'family', 'crime_syndicate', 'family', 'family']\n",
      "\n",
      "KEY: sincerely\tSYNONYMS: ['sincerely', 'truly', 'sincerely']\n",
      "\n",
      "KEY: history\tSYNONYMS: ['history', 'history', 'account', 'story', 'history', 'history', 'history']\n",
      "\n",
      "KEY: mood\tSYNONYMS: ['temper', 'mood', 'humour', 'mood', 'mood', 'mode', 'modality']\n",
      "\n",
      "KEY: hospital\tSYNONYMS: ['hospital', 'hospital']\n",
      "\n",
      "KEY: psychological\tSYNONYMS: ['psychological', 'psychological']\n",
      "\n",
      "KEY: perinatal\tSYNONYMS: ['perinatal']\n",
      "\n",
      "KEY: information\tSYNONYMS: ['information', 'info', 'information', 'information', 'data', 'information', 'information', 'entropy']\n",
      "\n",
      "KEY: thoughts\tSYNONYMS: ['idea', 'thought', 'thinking', 'thought', 'cerebration', 'mentation', 'thought', 'opinion', 'persuasion', 'view', 'thought']\n",
      "\n",
      "KEY: treatment\tSYNONYMS: ['treatment', 'intervention', 'treatment', 'handling', 'treatment', 'discussion', 'treatment']\n",
      "\n",
      "KEY: social\tSYNONYMS: ['sociable', 'social', 'mixer', 'social', 'social', 'social', 'social', 'social', 'social']\n",
      "\n",
      "KEY: anxious\tSYNONYMS: ['anxious', 'dying', 'anxious', 'nervous', 'uneasy']\n",
      "\n",
      "KEY: services\tSYNONYMS: ['services', 'service', 'service', 'service', 'divine_service', 'service', 'service', 'armed_service', 'service', 'Service', 'avail', 'help', 'service', 'service', 'servicing', 'service', 'service', 'serve', 'service', 'service', 'serving', 'overhaul', 'service', 'service', 'service', 'serve', 'service', 'serve', 'service']\n",
      "\n",
      "KEY: telephone\tSYNONYMS: ['telephone', 'phone', 'telephone', 'call', 'telephone', 'phone', 'ring']\n",
      "\n",
      "KEY: confidential\tSYNONYMS: ['confidential', 'confidential', 'secret', 'confidential', 'confidential']\n",
      "\n",
      "KEY: clinical\tSYNONYMS: ['clinical', 'clinical']\n",
      "\n",
      "KEY: symptoms\tSYNONYMS: ['symptom', 'symptom']\n",
      "\n",
      "KEY: feeling\tSYNONYMS: ['feeling', 'impression', 'feeling', 'belief', 'opinion', 'spirit', 'tone', 'feel', 'feeling', 'flavour', 'look', 'smell', 'feeling', 'touch', 'tactual_sensation', 'feeling', 'feeling', 'feel', 'experience', 'find', 'feel', 'feel', 'sense', 'feel', 'feel', 'feel', 'feel', 'feel', 'feel', 'finger', 'feel', 'feel', 'feel', 'feel']\n",
      "\n",
      "KEY: crisis\tSYNONYMS: ['crisis', 'crisis']\n",
      "\n",
      "KEY: well\tSYNONYMS: ['well', 'well', 'well', 'fountainhead', 'well', 'well', 'well', 'swell', 'well', 'good', 'well', 'well', 'well', 'good', 'well', 'well', 'easily', 'well', 'well', 'well', 'well', 'considerably', 'substantially', 'well', 'well', 'well', 'well', 'well', 'well']\n",
      "\n",
      "KEY: diagnosis\tSYNONYMS: ['diagnosis']\n",
      "\n",
      "KEY: father\tSYNONYMS: ['father', 'begetter', 'father', 'Father', 'Church_Father', 'Father', 'father', 'Father', 'Fatherhood', 'beginner', 'father', 'father', 'get', 'father', 'mother', 'generate']\n",
      "\n"
     ]
    }
   ],
   "source": [
    "list = ['aware', 'clinician', 'doctor', 'childcare', 'alcohol', 'risk', 'personality', 'community', 'difficult', 'team', 'health', 'assessment', 'appointment', 'medication', 'road', 'family', 'sincerely', 'history', 'mood', 'hospital', 'psychological', 'perinatal', 'information', 'thoughts', 'treatment', 'social', 'anxious', 'services', 'telephone', 'confidential', 'clinical', 'symptoms', 'feeling', 'crisis', 'well', 'diagnosis', 'father']\n",
    "synonyms = {}\n",
    "for word in list:\n",
    "    synonyms[word] = []\n",
    "    for entry in wn.synsets(word):\n",
    "        for lemma in entry.lemmas():\n",
    "            synonyms[word].append(lemma.name())\n",
    "for key in synonyms.keys():\n",
    "    curr_list = synonyms[key]\n",
    "    for e in curr_list:\n",
    "        if e not in toks:\n",
    "            print(f\"removing {e}\")\n",
    "            synonyms[key].remove(e)\n",
    "for entry in synonyms.keys():\n",
    "    print(f\"KEY: {entry}\\tSYNONYMS: {synonyms[entry]}\\n\")"
   ]
  },
  {
   "cell_type": "code",
   "execution_count": null,
   "id": "1f6bf953-0916-4a4d-921e-920ed2b8e17b",
   "metadata": {},
   "outputs": [],
   "source": []
  }
 ],
 "metadata": {
  "kernelspec": {
   "display_name": "Python 3 (ipykernel)",
   "language": "python",
   "name": "python3"
  },
  "language_info": {
   "codemirror_mode": {
    "name": "ipython",
    "version": 3
   },
   "file_extension": ".py",
   "mimetype": "text/x-python",
   "name": "python",
   "nbconvert_exporter": "python",
   "pygments_lexer": "ipython3",
   "version": "3.11.4"
  }
 },
 "nbformat": 4,
 "nbformat_minor": 5
}
